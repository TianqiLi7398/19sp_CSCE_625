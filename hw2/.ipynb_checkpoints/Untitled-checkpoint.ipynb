{
 "cells": [
  {
   "cell_type": "code",
   "execution_count": 24,
   "metadata": {},
   "outputs": [
    {
     "data": {
      "image/png": "[encoded data removed]",
      "text/plain": [
       "<Figure size 432x288 with 1 Axes>"
      ]
     },
     "metadata": {
      "needs_background": "light"
     },
     "output_type": "display_data"
    }
   ],
   "source": [
    "import matplotlib.pyplot as plt\n",
    "from matplotlib import colors\n",
    "import numpy as np\n",
    "\n",
    "data = np.random.rand(7, 7) * 20\n",
    "\n",
    "# create discrete colormap\n",
    "cmap = colors.ListedColormap(['red', 'blue','yellow'])\n",
    "bounds = [0,10,20]\n",
    "norm = colors.BoundaryNorm(bounds, cmap.N)\n",
    "\n",
    "fig, ax = plt.subplots()\n",
    "ax.imshow(data, cmap=cmap, norm=norm)\n",
    "\n",
    "# draw gridlines\n",
    "ax.grid(which='major', axis='both', linestyle='-', color='k', linewidth=2)\n",
    "ax.set_xticks(np.arange(0, 10, 1));\n",
    "ax.set_yticks(np.arange(0, 10, 1));\n",
    "\n",
    "plt.show()"
   ]
  },
  {
   "cell_type": "code",
   "execution_count": 231,
   "metadata": {},
   "outputs": [],
   "source": [
    "import matplotlib.pyplot as plt\n",
    "from matplotlib import colors\n",
    "import numpy as np\n",
    "from hw2_lib import piece, board\n",
    "\n",
    "orange = [[1, 1]]\n",
    "dark_green = [[1, 1, 1, 1, 1]]\n",
    "green = [[0, 1, 1, 0], [1, 1, 1, 0], [0, 1, 1, 1]]\n",
    "yellow = [[1, 1, 0], [0, 1, 1], [0, 0, 1]]\n",
    "red = [[1, 1, 0], [1, 1, 1], [1, 1, 0]]\n",
    "red_orange = [[1, 1, 1, 1], [0, 1, 1, 0]]\n",
    "dark_purple = [[1, 0, 0], [1, 1, 0], [1, 1, 1]]\n",
    "purple = [[0, 1, 0], [1, 1, 1]]\n",
    "blue = [[1, 1, 1, 1], [0, 0, 1, 0]]\n",
    "\n",
    "holes = [[0, 3], [1, 0], [1, 4], [1, 5], [3, 2], [3, 3],\n",
    "         [4, 1], [4, 4], [4, 6], [5, 3], [6, 0], [6, 4], [6, 5]]\n",
    "\n",
    "Units = [piece(orange, 'orange'),\n",
    "         piece(dark_green, 'dark_green'),\n",
    "         piece(green, 'green'),\n",
    "         piece(yellow, 'yellow'),\n",
    "         piece(red, 'red'),\n",
    "         piece(red_orange, 'red_orange'),\n",
    "         piece(dark_purple, 'dark_purple'),\n",
    "         piece(purple, 'purple'),\n",
    "         piece(blue, 'blue')]\n",
    "\n",
    "Board = board((7, 7), holes)\n",
    "Board.problem_init(11)\n",
    "# Board.search(Board.board.flatten(), Units)\n",
    "\n",
    "# if Board.solution == []:\n",
    "#     print('failure')\n"
   ]
  },
  {
   "cell_type": "code",
   "execution_count": 237,
   "metadata": {},
   "outputs": [
    {
     "data": {
      "text/plain": [
       "0"
      ]
     },
     "execution_count": 237,
     "metadata": {},
     "output_type": "execute_result"
    }
   ],
   "source": [
    "np.where(Board.board == 0)[0][0]"
   ]
  },
  {
   "cell_type": "code",
   "execution_count": 236,
   "metadata": {},
   "outputs": [
    {
     "data": {
      "text/plain": [
       "((1, 2), matrix([[1, 1]]))"
      ]
     },
     "execution_count": 236,
     "metadata": {},
     "output_type": "execute_result"
    }
   ],
   "source": [
    "Units[0].p1.shape,Units[0].p1"
   ]
  },
  {
   "cell_type": "code",
   "execution_count": 1,
   "metadata": {},
   "outputs": [],
   "source": [
    "import matplotlib.pyplot as plt\n",
    "from matplotlib import colors\n",
    "import numpy as np\n",
    "from hw2_lib import piece, board\n",
    "\n",
    "orange = [[1, 1]]\n",
    "dark_green = [[1, 1, 1, 1, 1]]\n",
    "green = [[0, 1, 1, 0], [1, 1, 1, 0], [0, 1, 1, 1]]\n",
    "yellow = [[1, 1, 0], [0, 1, 1], [0, 0, 1]]\n",
    "red = [[1, 1, 0], [1, 1, 1], [1, 1, 0]]\n",
    "red_orange = [[1, 1, 1, 1], [0, 1, 1, 0]]\n",
    "dark_purple = [[1, 0, 0], [1, 1, 0], [1, 1, 1]]\n",
    "purple = [[0, 1, 0], [1, 1, 1]]\n",
    "blue = [[1, 1, 1, 1], [0, 0, 1, 0]]\n",
    "\n",
    "holes = [[0, 3], [1, 0], [1, 4], [1, 5], [3, 2], [3, 3],\n",
    "         [4, 1], [4, 4], [4, 6], [5, 3], [6, 0], [6, 4], [6, 5]]\n",
    "\n",
    "Units = [piece(orange, 'orange', 1),\n",
    "         piece(dark_green, 'dark_green', 2),\n",
    "         piece(green, 'green', 3),\n",
    "         piece(yellow, 'yellow', 4),\n",
    "         piece(red, 'red', 5),\n",
    "         piece(red_orange, 'red_orange', 6),\n",
    "         piece(dark_purple, 'dark_purple', 7),\n",
    "         piece(purple, 'purple', 8),\n",
    "         piece(blue, 'blue', 9)]\n",
    "\n",
    "# Board = board((7, 7), holes)\n",
    "# Board.problem_init(11)\n",
    "# Board.search(Board.board.flatten(), Units)\n",
    "\n",
    "# print(Board.solution)\n"
   ]
  },
  {
   "cell_type": "code",
   "execution_count": 3,
   "metadata": {},
   "outputs": [
    {
     "data": {
      "text/plain": [
       "'blue'"
      ]
     },
     "execution_count": 3,
     "metadata": {},
     "output_type": "execute_result"
    }
   ],
   "source": [
    "Units[8].color"
   ]
  },
  {
   "cell_type": "code",
   "execution_count": 4,
   "metadata": {},
   "outputs": [
    {
     "data": {
      "text/plain": [
       "[matrix([[9, 9, 9, 9],\n",
       "         [0, 0, 9, 0]]), matrix([[9, 0],\n",
       "         [9, 9],\n",
       "         [9, 0],\n",
       "         [9, 0]]), matrix([[0, 9, 0, 0],\n",
       "         [9, 9, 9, 9]]), matrix([[0, 9],\n",
       "         [0, 9],\n",
       "         [9, 9],\n",
       "         [0, 9]])]"
      ]
     },
     "execution_count": 4,
     "metadata": {},
     "output_type": "execute_result"
    }
   ],
   "source": [
    "Units[8].all_shapes"
   ]
  },
  {
   "cell_type": "code",
   "execution_count": 47,
   "metadata": {},
   "outputs": [
    {
     "data": {
      "image/png": "[encoded data removed]",
      "text/plain": [
       "<Figure size 432x288 with 1 Axes>"
      ]
     },
     "metadata": {
      "needs_background": "light"
     },
     "output_type": "display_data"
    }
   ],
   "source": [
    "import numpy as np\n",
    "import matplotlib.pyplot as plt\n",
    "from matplotlib import colors\n",
    "\n",
    "fig, ax = plt.subplots()\n",
    "data = np.matrix([[9,  2,   2,   2,   2,   2,   6],\n",
    " [9,   9   ,5,   5   ,5,   6   ,6],\n",
    " [9 ,  8   ,5 ,  5  , 5 ,  6   ,6],\n",
    " [9  , 8   ,8  , 5  , 3  , 1   ,6],\n",
    " [4   ,8  , 3  , 3  , 3  , 1  , 7],\n",
    " [4   ,4 ,  3  , 3 ,  3  , 7 ,  7],\n",
    " [10   ,4,   4  , 3,   7   ,7,   7]])\n",
    "\n",
    "cmaps = ['Pastel1', 'Pastel2', 'Paired', 'Accent',\n",
    "                        'Dark2', 'Set1', 'Set2', 'Set3',\n",
    "                        'tab10', 'tab20', 'tab20b', 'tab20c']\n",
    "cmap = colors.ListedColormap(['orange', 'darkgreen','lime','yellow','red','orangered','violet','purple','blue','grey'])\n",
    "# ax.matshow(intersection_matrix, cmap=plt.cm.Blues)\n",
    "\n",
    "ax.imshow(data, cmap=cmap)\n",
    "i,j = 0,0\n",
    "plt.savefig('results/H%sSloution%s.png'%(i,j))\n",
    "\n",
    "# bounds = [0,1,7]\n",
    "\n",
    "\n",
    "# norm = colors.BoundaryNorm(bounds, cmap.N)\n",
    "\n",
    "# fig, ax = plt.subplots()\n",
    "# ax.imshow(data, cmap=cmap)\n",
    "\n",
    "# # draw gridlines\n",
    "# ax.grid(which='major', axis='both', linestyle='-', color='k', linewidth=2)\n",
    "# ax.set_xticks(np.arange(-.5, 10, 1));\n",
    "# ax.set_yticks(np.arange(-.5, 10, 1));\n",
    "\n",
    "# plt.show()\n"
   ]
  },
  {
   "cell_type": "code",
   "execution_count": 22,
   "metadata": {},
   "outputs": [
    {
     "data": {
      "text/plain": [
       "<matplotlib.colors.LinearSegmentedColormap at 0x107f8fa58>"
      ]
     },
     "execution_count": 22,
     "metadata": {},
     "output_type": "execute_result"
    }
   ],
   "source": [
    "plt.cm.Blues"
   ]
  },
  {
   "cell_type": "code",
   "execution_count": 12,
   "metadata": {},
   "outputs": [],
   "source": [
    "intersection_matrix = np.matrix([[9,  2,   2,   2,   2,   2,   6],\n",
    " [9,   9   ,5,   5   ,5,   6   ,6],\n",
    " [9 ,  8   ,5 ,  5  , 5 ,  6   ,6],\n",
    " [9  , 8   ,8  , 5  , 3  , 1   ,6],\n",
    " [4   ,8  , 3  , 3  , 3  , 1  , 7],\n",
    " [4   ,4 ,  3  , 3 ,  3  , 7 ,  7],\n",
    " [10   ,4,   4  , 3,   7   ,7,   7]])"
   ]
  },
  {
   "cell_type": "code",
   "execution_count": 11,
   "metadata": {},
   "outputs": [
    {
     "data": {
      "text/plain": [
       "matrix([[1, 2, 3],\n",
       "        [1, 3, 4]])"
      ]
     },
     "execution_count": 11,
     "metadata": {},
     "output_type": "execute_result"
    }
   ],
   "source": [
    "np.matrix([[1,2,3],[1,3,4]])"
   ]
  },
  {
   "cell_type": "code",
   "execution_count": null,
   "metadata": {},
   "outputs": [],
   "source": []
  }
 ],
 "metadata": {
  "kernelspec": {
   "display_name": "Python 3",
   "language": "python",
   "name": "python3"
  },
  "language_info": {
   "codemirror_mode": {
    "name": "ipython",
    "version": 3
   },
   "file_extension": ".py",
   "mimetype": "text/x-python",
   "name": "python",
   "nbconvert_exporter": "python",
   "pygments_lexer": "ipython3",
   "version": "3.5.5"
  }
 },
 "nbformat": 4,
 "nbformat_minor": 2
}
